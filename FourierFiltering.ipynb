{
 "cells": [
  {
   "cell_type": "code",
   "execution_count": 12,
   "metadata": {},
   "outputs": [],
   "source": [
    "# Try to load the fits file from GBTIDL:"
   ]
  },
  {
   "cell_type": "code",
   "execution_count": 13,
   "metadata": {},
   "outputs": [],
   "source": [
    "import numpy as np\n",
    "import seaborn as sns\n",
    "import matplotlib.pyplot as plt\n",
    "from astropy.io import ascii"
   ]
  },
  {
   "cell_type": "code",
   "execution_count": 58,
   "metadata": {},
   "outputs": [],
   "source": [
    "# Load the Fits file:\n",
    "\n",
    "OHdata = ascii.read('1083-13hr-vel-smoothed-centered.ascii', data_start=3, names=['VEL (km/s)', 'Ta (K)'])"
   ]
  },
  {
   "cell_type": "code",
   "execution_count": 59,
   "metadata": {},
   "outputs": [
    {
     "data": {
      "text/html": [
       "<i>Table length=16384</i>\n",
       "<table id=\"table139803118729616\" class=\"table-striped table-bordered table-condensed\">\n",
       "<thead><tr><th>VEL (km/s)</th><th>Ta (K)</th></tr></thead>\n",
       "<thead><tr><th>float64</th><th>float64</th></tr></thead>\n",
       "<tr><td>-989.9263133361251</td><td>0.1699107</td></tr>\n",
       "<tr><td>-989.7411366124275</td><td>0.1696126</td></tr>\n",
       "<tr><td>-989.5559598885965</td><td>0.1696164</td></tr>\n",
       "<tr><td>-989.3707831648321</td><td>0.1699249</td></tr>\n",
       "<tr><td>-989.1856064410678</td><td>0.1703846</td></tr>\n",
       "<tr><td>-989.0004297173034</td><td>0.1707818</td></tr>\n",
       "<tr><td>-988.815252993539</td><td>0.1709592</td></tr>\n",
       "<tr><td>-988.6300762697747</td><td>0.1708734</td></tr>\n",
       "<tr><td>-988.4448995460103</td><td>0.1705918</td></tr>\n",
       "<tr><td>-988.259722822246</td><td>0.1702563</td></tr>\n",
       "<tr><td>...</td><td>...</td></tr>\n",
       "<tr><td>2042.1573616534474</td><td>0.0004227</td></tr>\n",
       "<tr><td>2042.3425383772449</td><td>4.74e-05</td></tr>\n",
       "<tr><td>2042.527715100976</td><td>-9.31e-05</td></tr>\n",
       "<tr><td>2042.7128918247404</td><td>-4.71e-05</td></tr>\n",
       "<tr><td>2042.8980685485046</td><td>7.56e-05</td></tr>\n",
       "<tr><td>2043.0832452723023</td><td>0.0001638</td></tr>\n",
       "<tr><td>2043.2684219960665</td><td>0.0001247</td></tr>\n",
       "<tr><td>2043.453598719831</td><td>-0.0001093</td></tr>\n",
       "<tr><td>2043.6387754435955</td><td>-0.0005573</td></tr>\n",
       "<tr><td>2043.8239521673597</td><td>-0.0011598</td></tr>\n",
       "</table>"
      ],
      "text/plain": [
       "<Table length=16384>\n",
       "    VEL (km/s)       Ta (K)  \n",
       "     float64        float64  \n",
       "------------------ ----------\n",
       "-989.9263133361251  0.1699107\n",
       "-989.7411366124275  0.1696126\n",
       "-989.5559598885965  0.1696164\n",
       "-989.3707831648321  0.1699249\n",
       "-989.1856064410678  0.1703846\n",
       "-989.0004297173034  0.1707818\n",
       " -988.815252993539  0.1709592\n",
       "-988.6300762697747  0.1708734\n",
       "-988.4448995460103  0.1705918\n",
       " -988.259722822246  0.1702563\n",
       "               ...        ...\n",
       "2042.1573616534474  0.0004227\n",
       "2042.3425383772449   4.74e-05\n",
       " 2042.527715100976  -9.31e-05\n",
       "2042.7128918247404  -4.71e-05\n",
       "2042.8980685485046   7.56e-05\n",
       "2043.0832452723023  0.0001638\n",
       "2043.2684219960665  0.0001247\n",
       " 2043.453598719831 -0.0001093\n",
       "2043.6387754435955 -0.0005573\n",
       "2043.8239521673597 -0.0011598"
      ]
     },
     "execution_count": 59,
     "metadata": {},
     "output_type": "execute_result"
    }
   ],
   "source": [
    "OHdata"
   ]
  },
  {
   "cell_type": "code",
   "execution_count": 60,
   "metadata": {},
   "outputs": [
    {
     "ename": "AttributeError",
     "evalue": "'Column' object has no attribute 'as_array'",
     "output_type": "error",
     "traceback": [
      "\u001b[0;31m---------------------------------------------------------------------------\u001b[0m",
      "\u001b[0;31mAttributeError\u001b[0m                            Traceback (most recent call last)",
      "\u001b[0;32m<ipython-input-60-1dbb90d2a186>\u001b[0m in \u001b[0;36m<module>\u001b[0;34m\u001b[0m\n\u001b[0;32m----> 1\u001b[0;31m \u001b[0mfreq\u001b[0m \u001b[0;34m=\u001b[0m \u001b[0mOHdata\u001b[0m\u001b[0;34m[\u001b[0m\u001b[0;34m'VEL (km/s)'\u001b[0m\u001b[0;34m]\u001b[0m\u001b[0;34m.\u001b[0m\u001b[0mas_array\u001b[0m\u001b[0;34m(\u001b[0m\u001b[0;34m)\u001b[0m\u001b[0;34m\u001b[0m\u001b[0;34m\u001b[0m\u001b[0m\n\u001b[0m\u001b[1;32m      2\u001b[0m \u001b[0mTa\u001b[0m \u001b[0;34m=\u001b[0m \u001b[0mOHdata\u001b[0m\u001b[0;34m[\u001b[0m\u001b[0;34m'Ta (K)'\u001b[0m\u001b[0;34m]\u001b[0m\u001b[0;34m.\u001b[0m\u001b[0mas_array\u001b[0m\u001b[0;34m(\u001b[0m\u001b[0;34m)\u001b[0m\u001b[0;34m\u001b[0m\u001b[0;34m\u001b[0m\u001b[0m\n\u001b[1;32m      3\u001b[0m \u001b[0;34m\u001b[0m\u001b[0m\n\u001b[1;32m      4\u001b[0m \u001b[0;31m# Plot the data:\u001b[0m\u001b[0;34m\u001b[0m\u001b[0;34m\u001b[0m\u001b[0;34m\u001b[0m\u001b[0m\n\u001b[1;32m      5\u001b[0m \u001b[0mfig\u001b[0m\u001b[0;34m,\u001b[0m \u001b[0max\u001b[0m \u001b[0;34m=\u001b[0m \u001b[0mplt\u001b[0m\u001b[0;34m.\u001b[0m\u001b[0msubplots\u001b[0m\u001b[0;34m(\u001b[0m\u001b[0;36m1\u001b[0m\u001b[0;34m,\u001b[0m \u001b[0mfigsize\u001b[0m\u001b[0;34m=\u001b[0m\u001b[0;34m(\u001b[0m\u001b[0;36m15\u001b[0m\u001b[0;34m,\u001b[0m \u001b[0;36m8\u001b[0m\u001b[0;34m)\u001b[0m\u001b[0;34m)\u001b[0m\u001b[0;34m\u001b[0m\u001b[0;34m\u001b[0m\u001b[0m\n",
      "\u001b[0;31mAttributeError\u001b[0m: 'Column' object has no attribute 'as_array'"
     ]
    }
   ],
   "source": [
    "freq = OHdata['VEL (km/s)'].as_array()\n",
    "Ta = OHdata['Ta (K)'].\n",
    "\n",
    "# Plot the data:\n",
    "fig, ax = plt.subplots(1, figsize=(15, 8))\n",
    "ax.plot(freq, Ta, 'k.', alpha=0.3, ms=2)\n",
    "ax.set_title('13 Hour OH GBT Spectrum on 108 +3')\n",
    "ax.set_ylabel(\"Ta (K)\")\n",
    "ax.set_xlabel(\"VEL (km/s)\");"
   ]
  },
  {
   "cell_type": "code",
   "execution_count": 53,
   "metadata": {},
   "outputs": [],
   "source": [
    "result = np.where(Ta == 0)"
   ]
  },
  {
   "cell_type": "code",
   "execution_count": 63,
   "metadata": {},
   "outputs": [
    {
     "ename": "TypeError",
     "evalue": "as_array() got an unexpected keyword argument 'dtype'",
     "output_type": "error",
     "traceback": [
      "\u001b[0;31m---------------------------------------------------------------------------\u001b[0m",
      "\u001b[0;31mTypeError\u001b[0m                                 Traceback (most recent call last)",
      "\u001b[0;32m<ipython-input-63-05ab7990204d>\u001b[0m in \u001b[0;36m<module>\u001b[0;34m\u001b[0m\n\u001b[0;32m----> 1\u001b[0;31m \u001b[0mOHdata\u001b[0m\u001b[0;34m.\u001b[0m\u001b[0mas_array\u001b[0m\u001b[0;34m(\u001b[0m\u001b[0mdtype\u001b[0m\u001b[0;34m=\u001b[0m\u001b[0;34m'float'\u001b[0m\u001b[0;34m)\u001b[0m\u001b[0;34m\u001b[0m\u001b[0;34m\u001b[0m\u001b[0m\n\u001b[0m",
      "\u001b[0;31mTypeError\u001b[0m: as_array() got an unexpected keyword argument 'dtype'"
     ]
    }
   ],
   "source": [
    "OHdata.as_array(dtype=['float','float')"
   ]
  },
  {
   "cell_type": "code",
   "execution_count": null,
   "metadata": {},
   "outputs": [],
   "source": []
  }
 ],
 "metadata": {
  "kernelspec": {
   "display_name": "Python 3",
   "language": "python",
   "name": "python3"
  },
  "language_info": {
   "codemirror_mode": {
    "name": "ipython",
    "version": 3
   },
   "file_extension": ".py",
   "mimetype": "text/x-python",
   "name": "python",
   "nbconvert_exporter": "python",
   "pygments_lexer": "ipython3",
   "version": "3.7.4"
  }
 },
 "nbformat": 4,
 "nbformat_minor": 2
}
